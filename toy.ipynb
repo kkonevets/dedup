{
 "cells": [
  {
   "cell_type": "code",
   "execution_count": 1,
   "metadata": {},
   "outputs": [],
   "source": [
    "import numpy as np\n",
    "\n",
    "from sklearn.metrics.pairwise import cosine_similarity\n",
    "from sklearn.model_selection import train_test_split\n",
    "from sklearn.preprocessing import OneHotEncoder\n",
    "from sklearn.preprocessing import Normalizer\n",
    "from scipy.spatial.distance import cosine as dcosine\n",
    "\n",
    "import tensorflow as tf"
   ]
  },
  {
   "cell_type": "code",
   "execution_count": 3,
   "metadata": {},
   "outputs": [
    {
     "name": "stdout",
     "output_type": "stream",
     "text": [
      "(array([False,  True]), array([262403, 237097]))\n",
      "baseline: 0.5253313919980587\n",
      "\n"
     ]
    }
   ],
   "source": [
    "N = 1000\n",
    "dim = 2\n",
    "theta = np.pi/8\n",
    "np.random.seed(0)\n",
    "\n",
    "vecs = np.random.rand(N, dim)\n",
    "dists = cosine_similarity(vecs, vecs)\n",
    "cond = dists > np.cos(theta)\n",
    "ixs = np.triu_indices(N, k=1)\n",
    "\n",
    "#################################################################\n",
    "\n",
    "# data = np.hstack((vecs[ixs[0]], vecs[ixs[1]]))\n",
    "# data = np.subtract(vecs[ixs[0]],  vecs[ixs[1]])\n",
    "data = np.array([[dcosine(a, b)]\n",
    "                 for a, b in zip(vecs[ixs[0]], vecs[ixs[1]])])\n",
    "\n",
    "#################################################################\n",
    "\n",
    "target = cond[ixs]\n",
    "print(np.unique(target, return_counts=True))\n",
    "\n",
    "onehot_encoder = OneHotEncoder(sparse=False, categories='auto')\n",
    "integer_encoded = target.reshape(len(target), 1)\n",
    "data_y = onehot_encoder.fit_transform(integer_encoded)\n",
    "\n",
    "X_train, X_test, y_train, y_test = train_test_split(\n",
    "    data, data_y, test_size=0.33, random_state=42, stratify=target)\n",
    "\n",
    "un = np.unique(y_test[:, 1], return_counts=True)\n",
    "counts = un[1]\n",
    "print('baseline: %s\\n' % (counts[0]/(counts[0] + counts[1])))\n",
    "\n",
    "norm = Normalizer()\n",
    "X_train = norm.fit_transform(X_train)\n",
    "X_test = norm.transform(X_test)\n",
    "\n",
    "def gen_batches(X, y, batch_size=100):\n",
    "    for i in range(0, X.shape[0], batch_size):\n",
    "        yield X[i:i+batch_size], y[i:i+batch_size]\n"
   ]
  },
  {
   "cell_type": "code",
   "execution_count": null,
   "metadata": {},
   "outputs": [],
   "source": []
  }
 ],
 "metadata": {
  "kernelspec": {
   "display_name": "Python 3",
   "language": "python",
   "name": "python3"
  },
  "language_info": {
   "codemirror_mode": {
    "name": "ipython",
    "version": 3
   },
   "file_extension": ".py",
   "mimetype": "text/x-python",
   "name": "python",
   "nbconvert_exporter": "python",
   "pygments_lexer": "ipython3",
   "version": "3.6.5"
  }
 },
 "nbformat": 4,
 "nbformat_minor": 2
}
